{
 "cells": [
  {
   "cell_type": "code",
   "execution_count": 1,
   "id": "e7e5926b",
   "metadata": {},
   "outputs": [],
   "source": [
    "import googlemaps"
   ]
  },
  {
   "cell_type": "code",
   "execution_count": 2,
   "id": "6e67b7ff",
   "metadata": {},
   "outputs": [],
   "source": [
    "gmaps = googlemaps.Client(key = 'REDACTED')"
   ]
  },
  {
   "cell_type": "code",
   "execution_count": 3,
   "id": "febe5dff",
   "metadata": {},
   "outputs": [],
   "source": [
    "#CENTERPOINTS FOR EVERY ZONE\n",
    "\n",
    "loc1 = (33.4660090, -112.2685221)\n",
    "loc2 = (33.5222089,-112.1618204)\n",
    "loc3 = (33.5754480,-112.0565226)\n",
    "loc4 = (33.6076096,-111.9357811)\n",
    "loc5 = (33.4179761,-112.1562045)\n",
    "loc6 = (33.4730360,-112.0502047)\n",
    "loc7 = (33.5046504,-111.9308672)\n",
    "loc8 = (33.3634675,-112.0445888)\n",
    "loc9 = (33.3992243,-111.9266553)\n",
    "loc10 = (33.4378954,-111.8080197)\n",
    "loc11 = (33.4654234,-111.6837683)\n",
    "loc12 = (33.2619790,-112.0642444)\n",
    "loc13 = (33.2971907,-111.9435029)\n",
    "loc14 = (33.3341477,-111.8255694)\n",
    "loc15 = (33.3622949,-111.7062319)\n",
    "\n",
    "loclist = [loc1,loc2,loc3,loc4,loc5,loc6,loc7,loc8,loc9,loc10,loc11,loc12,loc13,loc14,loc15]"
   ]
  },
  {
   "cell_type": "code",
   "execution_count": 9,
   "id": "5efd58c7",
   "metadata": {},
   "outputs": [],
   "source": [
    "import time"
   ]
  },
  {
   "cell_type": "code",
   "execution_count": 10,
   "id": "be9c2902",
   "metadata": {
    "collapsed": true
   },
   "outputs": [
    {
     "data": {
      "text/plain": [
       "[\"Fry's Food And Drug\",\n",
       " 'plus 899 others']"
      ]
     },
     "execution_count": 10,
     "metadata": {},
     "output_type": "execute_result"
    }
   ],
   "source": [
    "#GRAB AT MOST 60 STORES WITHIN EACH ZONE\n",
    "\n",
    "nameslist = []\n",
    "addrlist = []\n",
    "latlist = []\n",
    "longlist = []\n",
    "\n",
    "for loc in loclist:\n",
    "    stores = gmaps.places(query=\"grocery stores\", location=loc, radius=7000) #20 stores dict\n",
    "    for index in stores['results']: #creates lists [name] [addr] [lat] [long] for these 20 stores\n",
    "        name = index['name']\n",
    "        nameslist.append(name)\n",
    "        addr = index['formatted_address']\n",
    "        addrlist.append(addr)\n",
    "        lat = index['geometry']['location']['lat']\n",
    "        latlist.append(lat)\n",
    "        long = index['geometry']['location']['lng']\n",
    "        longlist.append(long)\n",
    "    #each list is now filled with 20 stores\n",
    "    \n",
    "    npt = stores.get('next_page_token')\n",
    "    time.sleep(3)\n",
    "\n",
    "    stores2 = gmaps.places(query=\"grocery stores\", location=loc, radius=7000, page_token=npt)\n",
    "    for index in stores2['results']:\n",
    "        name = index['name']\n",
    "        nameslist.append(name)\n",
    "        addr = index['formatted_address']\n",
    "        addrlist.append(addr)\n",
    "        lat = index['geometry']['location']['lat']\n",
    "        latlist.append(lat)\n",
    "        long = index['geometry']['location']['lng']\n",
    "        longlist.append(long)\n",
    "    #each list is now filled with 40 stores\n",
    "   \n",
    "    npt1 = stores2.get('next_page_token')\n",
    "    time.sleep(3)\n",
    "\n",
    "    stores3 = gmaps.places(query=\"grocery stores\", location=loc, radius=7000, page_token=npt1)\n",
    "    for index in stores3['results']: #this is a list of dictionaries\n",
    "        name = index['name']\n",
    "        nameslist.append(name)\n",
    "        addr = index['formatted_address']\n",
    "        addrlist.append(addr)\n",
    "        lat = index['geometry']['location']['lat']\n",
    "        latlist.append(lat)\n",
    "        long = index['geometry']['location']['lng']\n",
    "        longlist.append(long)\n",
    "    #each list is now filled with 60 stores"
   ]
  },
  {
   "cell_type": "code",
   "execution_count": 13,
   "id": "fb6a7ff0",
   "metadata": {
    "collapsed": true
   },
   "outputs": [
    {
     "data": {
      "text/plain": [
       "['1575 N Dysart Rd, Avondale, AZ 85392, United States',\n",
       " 'plus 899 others']"
      ]
     },
     "execution_count": 13,
     "metadata": {},
     "output_type": "execute_result"
    }
   ],
   "source": [
    "#addrlist"
   ]
  },
  {
   "cell_type": "markdown",
   "id": "ae1734a5",
   "metadata": {},
   "source": [
    "  TURN A COMPLEX DICTIONARY INTO A CSV AND EXPORT IT TO ARCGIS\n",
    "   \n",
    "   results[0] = one store, results[1] = another store.\n",
    "   rows need to be results[i]\n",
    "   columns need to be name, address, x and y\n",
    "   \n",
    "   1. List of names from dict\n",
    "   2. list of addresses, etc.\n",
    "   3. make a new dict with these lists"
   ]
  },
  {
   "cell_type": "code",
   "execution_count": 14,
   "id": "da276386",
   "metadata": {},
   "outputs": [],
   "source": [
    "import pandas as pd"
   ]
  },
  {
   "cell_type": "markdown",
   "id": "6120c294",
   "metadata": {},
   "source": [
    "# Final"
   ]
  },
  {
   "cell_type": "code",
   "execution_count": 15,
   "id": "5d0a8443",
   "metadata": {},
   "outputs": [],
   "source": [
    "stores_dict = {'Name':nameslist, 'Address':addrlist, 'Lat':latlist, 'Long':longlist}"
   ]
  },
  {
   "cell_type": "code",
   "execution_count": 16,
   "id": "e6d8d4d3",
   "metadata": {},
   "outputs": [],
   "source": [
    "df = pd.DataFrame.from_dict(stores_dict)"
   ]
  },
  {
   "cell_type": "code",
   "execution_count": 17,
   "id": "9d6745c7",
   "metadata": {},
   "outputs": [
    {
     "data": {
      "text/html": [
       "<div>\n",
       "<style scoped>\n",
       "    .dataframe tbody tr th:only-of-type {\n",
       "        vertical-align: middle;\n",
       "    }\n",
       "\n",
       "    .dataframe tbody tr th {\n",
       "        vertical-align: top;\n",
       "    }\n",
       "\n",
       "    .dataframe thead th {\n",
       "        text-align: right;\n",
       "    }\n",
       "</style>\n",
       "<table border=\"1\" class=\"dataframe\">\n",
       "  <thead>\n",
       "    <tr style=\"text-align: right;\">\n",
       "      <th></th>\n",
       "      <th>Name</th>\n",
       "      <th>Address</th>\n",
       "      <th>Lat</th>\n",
       "      <th>Long</th>\n",
       "    </tr>\n",
       "  </thead>\n",
       "  <tbody>\n",
       "    <tr>\n",
       "      <th>0</th>\n",
       "      <td>Fry's Food And Drug</td>\n",
       "      <td>1575 N Dysart Rd, Avondale, AZ 85392, United S...</td>\n",
       "      <td>33.463034</td>\n",
       "      <td>-112.338920</td>\n",
       "    </tr>\n",
       "    <tr>\n",
       "      <th>1</th>\n",
       "      <td>Albertsons</td>\n",
       "      <td>12970 W Indian School Rd, Litchfield Park, AZ ...</td>\n",
       "      <td>33.494800</td>\n",
       "      <td>-112.337909</td>\n",
       "    </tr>\n",
       "    <tr>\n",
       "      <th>2</th>\n",
       "      <td>Safeway</td>\n",
       "      <td>4811 N 83rd Ave, Phoenix, AZ 85033, United States</td>\n",
       "      <td>33.507598</td>\n",
       "      <td>-112.235956</td>\n",
       "    </tr>\n",
       "    <tr>\n",
       "      <th>3</th>\n",
       "      <td>Food City</td>\n",
       "      <td>6544 W Thomas Rd, Phoenix, AZ 85033, United St...</td>\n",
       "      <td>33.481318</td>\n",
       "      <td>-112.202325</td>\n",
       "    </tr>\n",
       "    <tr>\n",
       "      <th>4</th>\n",
       "      <td>Fry's Food And Drug</td>\n",
       "      <td>2626 S 83rd Ave, Phoenix, AZ 85043, United States</td>\n",
       "      <td>33.424200</td>\n",
       "      <td>-112.240336</td>\n",
       "    </tr>\n",
       "    <tr>\n",
       "      <th>...</th>\n",
       "      <td>...</td>\n",
       "      <td>...</td>\n",
       "      <td>...</td>\n",
       "      <td>...</td>\n",
       "    </tr>\n",
       "    <tr>\n",
       "      <th>895</th>\n",
       "      <td>Bashas'</td>\n",
       "      <td>1133 N Ellsworth Rd, Mesa, AZ 85207, United St...</td>\n",
       "      <td>33.435597</td>\n",
       "      <td>-111.631231</td>\n",
       "    </tr>\n",
       "    <tr>\n",
       "      <th>896</th>\n",
       "      <td>Walmart Supercenter</td>\n",
       "      <td>2501 S Market St, Gilbert, AZ 85295, United St...</td>\n",
       "      <td>33.304840</td>\n",
       "      <td>-111.740971</td>\n",
       "    </tr>\n",
       "    <tr>\n",
       "      <th>897</th>\n",
       "      <td>QuikTrip</td>\n",
       "      <td>5545 S Power Rd, Mesa, AZ 85212, United States</td>\n",
       "      <td>33.314915</td>\n",
       "      <td>-111.685915</td>\n",
       "    </tr>\n",
       "    <tr>\n",
       "      <th>898</th>\n",
       "      <td>Carniceria Del Rancho</td>\n",
       "      <td>7246 E Main St # 1, Mesa, AZ 85207, United States</td>\n",
       "      <td>33.416470</td>\n",
       "      <td>-111.674999</td>\n",
       "    </tr>\n",
       "    <tr>\n",
       "      <th>899</th>\n",
       "      <td>Aloha Island Market, AZ</td>\n",
       "      <td>454 N Lindsay Rd, Mesa, AZ 85213, United States</td>\n",
       "      <td>33.424029</td>\n",
       "      <td>-111.771414</td>\n",
       "    </tr>\n",
       "  </tbody>\n",
       "</table>\n",
       "<p>900 rows × 4 columns</p>\n",
       "</div>"
      ],
      "text/plain": [
       "                        Name  \\\n",
       "0        Fry's Food And Drug   \n",
       "1                 Albertsons   \n",
       "2                    Safeway   \n",
       "3                  Food City   \n",
       "4        Fry's Food And Drug   \n",
       "..                       ...   \n",
       "895                  Bashas'   \n",
       "896      Walmart Supercenter   \n",
       "897                 QuikTrip   \n",
       "898    Carniceria Del Rancho   \n",
       "899  Aloha Island Market, AZ   \n",
       "\n",
       "                                               Address        Lat        Long  \n",
       "0    1575 N Dysart Rd, Avondale, AZ 85392, United S...  33.463034 -112.338920  \n",
       "1    12970 W Indian School Rd, Litchfield Park, AZ ...  33.494800 -112.337909  \n",
       "2    4811 N 83rd Ave, Phoenix, AZ 85033, United States  33.507598 -112.235956  \n",
       "3    6544 W Thomas Rd, Phoenix, AZ 85033, United St...  33.481318 -112.202325  \n",
       "4    2626 S 83rd Ave, Phoenix, AZ 85043, United States  33.424200 -112.240336  \n",
       "..                                                 ...        ...         ...  \n",
       "895  1133 N Ellsworth Rd, Mesa, AZ 85207, United St...  33.435597 -111.631231  \n",
       "896  2501 S Market St, Gilbert, AZ 85295, United St...  33.304840 -111.740971  \n",
       "897     5545 S Power Rd, Mesa, AZ 85212, United States  33.314915 -111.685915  \n",
       "898  7246 E Main St # 1, Mesa, AZ 85207, United States  33.416470 -111.674999  \n",
       "899    454 N Lindsay Rd, Mesa, AZ 85213, United States  33.424029 -111.771414  \n",
       "\n",
       "[900 rows x 4 columns]"
      ]
     },
     "execution_count": 17,
     "metadata": {},
     "output_type": "execute_result"
    }
   ],
   "source": [
    "df"
   ]
  },
  {
   "cell_type": "code",
   "execution_count": 18,
   "id": "a9af41aa",
   "metadata": {},
   "outputs": [],
   "source": [
    "df.to_excel(\"PhoenixStores.xlsx\", sheet_name = \"Nine Hundred Stores\", index = True)"
   ]
  }
 ],
 "metadata": {
  "kernelspec": {
   "display_name": "Python 3 (ipykernel)",
   "language": "python",
   "name": "python3"
  },
  "language_info": {
   "codemirror_mode": {
    "name": "ipython",
    "version": 3
   },
   "file_extension": ".py",
   "mimetype": "text/x-python",
   "name": "python",
   "nbconvert_exporter": "python",
   "pygments_lexer": "ipython3",
   "version": "3.11.8"
  }
 },
 "nbformat": 4,
 "nbformat_minor": 5
}
